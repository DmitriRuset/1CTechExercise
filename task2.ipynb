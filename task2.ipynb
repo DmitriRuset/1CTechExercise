{
  "nbformat": 4,
  "nbformat_minor": 0,
  "metadata": {
    "colab": {
      "name": "task.ipynb",
      "provenance": [],
      "collapsed_sections": []
    },
    "kernelspec": {
      "name": "python3",
      "display_name": "Python 3"
    }
  },
  "cells": [
    {
      "cell_type": "code",
      "metadata": {
        "id": "s1V8f1C5PKg0"
      },
      "source": [
        "import cv2\n",
        "import numpy as np"
      ],
      "execution_count": 22,
      "outputs": []
    },
    {
      "cell_type": "code",
      "metadata": {
        "colab": {
          "base_uri": "https://localhost:8080/"
        },
        "id": "aCgbDKo8Pg1D",
        "outputId": "fcc57a9f-dbd5-448a-918a-6031f38b7980"
      },
      "source": [
        "img = cv2.imread(\"/image1.png\", cv2.IMREAD_UNCHANGED)\n",
        "print(img[0][0])"
      ],
      "execution_count": 54,
      "outputs": [
        {
          "output_type": "stream",
          "text": [
            "[255 255 255 255]\n"
          ],
          "name": "stdout"
        }
      ]
    },
    {
      "cell_type": "code",
      "metadata": {
        "colab": {
          "base_uri": "https://localhost:8080/"
        },
        "id": "O8tttzNNPg-E",
        "outputId": "09b616e9-1eb2-4067-c482-d2fc9e88dee6"
      },
      "source": [
        "thresh = 200\n",
        "\n",
        "output = img.copy()\n",
        "img_grey = cv2.cvtColor(img,cv2.COLOR_BGR2GRAY)\n",
        "\n",
        "\n",
        "ret,thresh_img = cv2.threshold(img_grey, thresh, 255, cv2.THRESH_BINARY)\n",
        "\n",
        "circles = cv2.HoughCircles(img_grey, cv2.HOUGH_GRADIENT, 1.3, 100)\n",
        "\n",
        "if circles is not None:\n",
        "   circles = np.round(circles[0, :]).astype(\"int\")\n",
        "   print(circles)\n",
        "   for (x, y, r) in circles:\n",
        "      cv2.circle(output, (x, y), r, (0, 255, 0, 255), -1)\n",
        "\n",
        "cv2.imwrite(\"/circle.png\", output)"
      ],
      "execution_count": 84,
      "outputs": [
        {
          "output_type": "stream",
          "text": [
            "[[460 255  68]\n",
            " [289 426  51]\n",
            " [632  86  71]]\n"
          ],
          "name": "stdout"
        },
        {
          "output_type": "execute_result",
          "data": {
            "text/plain": [
              "True"
            ]
          },
          "metadata": {
            "tags": []
          },
          "execution_count": 84
        }
      ]
    },
    {
      "cell_type": "code",
      "metadata": {
        "id": "ZGvuU0A8Zt_n"
      },
      "source": [
        "all_horisontal_lines = list()\n",
        "white = [255, 255, 255, 255]\n",
        "transpar = [0,0,0,0]\n",
        "\n",
        "def is_not_bg(coord):\n",
        "  return (coord != white).any() and (coord != transpar).any()\n",
        "\n",
        "max_len = 0;\n",
        "\n",
        "for i in range(img.shape[0]):\n",
        "  for j in range(img.shape[1]):\n",
        "    if is_not_bg(img[i][j]):\n",
        "      if j == 0 or (not is_not_bg(img[i][j - 1])):\n",
        "        k = j\n",
        "        cnt = 0\n",
        "        while is_not_bg(img[i][k]):\n",
        "          cnt += 1\n",
        "          k += 1\n",
        "        max_len = max(cnt, max_len)\n",
        "        all_horisontal_lines.append((i, j, cnt))\n",
        "\n",
        "horisontal_lines = list()\n",
        "for elem in all_horisontal_lines:\n",
        "  if elem[2] == max_len:\n",
        "     horisontal_lines.append(elem)"
      ],
      "execution_count": 93,
      "outputs": []
    },
    {
      "cell_type": "code",
      "metadata": {
        "colab": {
          "base_uri": "https://localhost:8080/"
        },
        "id": "9sz32Xhfuzo3",
        "outputId": "931f71a7-80c5-4fc0-b7f1-db606c658afc"
      },
      "source": [
        ""
      ],
      "execution_count": 94,
      "outputs": [
        {
          "output_type": "execute_result",
          "data": {
            "text/plain": [
              "[(162, 204, 512),\n",
              " (163, 204, 512),\n",
              " (164, 204, 512),\n",
              " (165, 204, 512),\n",
              " (166, 204, 512),\n",
              " (167, 204, 512),\n",
              " (168, 204, 512),\n",
              " (169, 204, 512),\n",
              " (170, 204, 512),\n",
              " (171, 204, 512),\n",
              " (172, 204, 512),\n",
              " (173, 204, 512),\n",
              " (174, 204, 512),\n",
              " (175, 204, 512),\n",
              " (176, 204, 512),\n",
              " (177, 204, 512),\n",
              " (178, 204, 512),\n",
              " (333, 204, 512),\n",
              " (334, 204, 512),\n",
              " (335, 204, 512),\n",
              " (336, 204, 512),\n",
              " (337, 204, 512),\n",
              " (338, 204, 512),\n",
              " (339, 204, 512),\n",
              " (340, 204, 512),\n",
              " (341, 204, 512),\n",
              " (342, 204, 512),\n",
              " (343, 204, 512),\n",
              " (344, 204, 512),\n",
              " (345, 204, 512),\n",
              " (346, 204, 512),\n",
              " (347, 204, 512),\n",
              " (348, 204, 512),\n",
              " (349, 204, 512)]"
            ]
          },
          "metadata": {
            "tags": []
          },
          "execution_count": 94
        }
      ]
    },
    {
      "cell_type": "code",
      "metadata": {
        "id": "gFFMYBoDfpoJ"
      },
      "source": [
        "all_vertical_lines = list()\n",
        "white = [255, 255, 255, 255]\n",
        "transpar = [0,0,0,0]\n",
        "\n",
        "def is_not_bg(coord):\n",
        "  return (coord != white).any() and (coord != transpar).any()\n",
        "\n",
        "max_len = 0;\n",
        "\n",
        "for i in range(img.shape[0]):\n",
        "  for j in range(img.shape[1]):\n",
        "    if is_not_bg(img[i][j]):\n",
        "      if i == 0 or (not is_not_bg(img[i - 1][j])):\n",
        "        k = i\n",
        "        cnt = 0\n",
        "        while k != img.shape[0] and is_not_bg(img[k][j]):\n",
        "          cnt += 1\n",
        "          k += 1\n",
        "        max_len = max(cnt, max_len)\n",
        "        all_vertical_lines.append((i, j, cnt))\n",
        "\n",
        "vertical_lines = list()\n",
        "for elem in all_vertical_lines:\n",
        "  if elem[2] == max_len:\n",
        "     vertical_lines.append(elem)"
      ],
      "execution_count": 97,
      "outputs": []
    },
    {
      "cell_type": "code",
      "metadata": {
        "colab": {
          "base_uri": "https://localhost:8080/"
        },
        "id": "Cc2uLuCqvEkt",
        "outputId": "5a5c8d92-e7e9-4077-8a13-110a26f712ad"
      },
      "source": [
        "vertical_lines"
      ],
      "execution_count": 98,
      "outputs": [
        {
          "output_type": "execute_result",
          "data": {
            "text/plain": [
              "[(0, 366, 512),\n",
              " (0, 367, 512),\n",
              " (0, 368, 512),\n",
              " (0, 369, 512),\n",
              " (0, 370, 512),\n",
              " (0, 371, 512),\n",
              " (0, 372, 512),\n",
              " (0, 373, 512),\n",
              " (0, 374, 512),\n",
              " (0, 375, 512),\n",
              " (0, 376, 512),\n",
              " (0, 377, 512),\n",
              " (0, 378, 512),\n",
              " (0, 379, 512),\n",
              " (0, 380, 512),\n",
              " (0, 381, 512),\n",
              " (0, 382, 512),\n",
              " (0, 537, 512),\n",
              " (0, 538, 512),\n",
              " (0, 539, 512),\n",
              " (0, 540, 512),\n",
              " (0, 541, 512),\n",
              " (0, 542, 512),\n",
              " (0, 543, 512),\n",
              " (0, 544, 512),\n",
              " (0, 545, 512),\n",
              " (0, 546, 512),\n",
              " (0, 547, 512),\n",
              " (0, 548, 512),\n",
              " (0, 549, 512),\n",
              " (0, 550, 512),\n",
              " (0, 551, 512),\n",
              " (0, 552, 512),\n",
              " (0, 553, 512)]"
            ]
          },
          "metadata": {
            "tags": []
          },
          "execution_count": 98
        }
      ]
    },
    {
      "cell_type": "code",
      "metadata": {
        "colab": {
          "base_uri": "https://localhost:8080/"
        },
        "id": "1mCPIa5owFPe",
        "outputId": "9bf648b2-d899-4466-a594-868b76e2739d"
      },
      "source": [
        "#Make cells\n",
        "border_cells = []\n",
        "\n",
        "main_vert_lines = [(vertical_lines[0][0], horisontal_lines[0][1])]\n",
        "\n",
        "for i in range(len(vertical_lines)):\n",
        "  if i == 0 or i == len(vertical_lines) - 1:\n",
        "    main_vert_lines.append(vertical_lines[i])\n",
        "    continue\n",
        "  if vertical_lines[i][1] - vertical_lines[i - 1][1] != 1 or vertical_lines[i + 1][1] - vertical_lines[i][1] != 1:\n",
        "    main_vert_lines.append(vertical_lines[i])\n",
        "\n",
        "main_vert_lines.append((vertical_lines[0][0], horisontal_lines[0][1] + horisontal_lines[0][2]))\n",
        "\n",
        "main_horiz_lines = [(vertical_lines[0][0], horisontal_lines[0][1])]\n",
        "\n",
        "for i in range(len(horisontal_lines)):\n",
        "  if i == 0 or i == len(horisontal_lines) - 1:\n",
        "    main_horiz_lines.append(horisontal_lines[i])\n",
        "    continue\n",
        "  if horisontal_lines[i][0] - horisontal_lines[i - 1][0] != 1 or horisontal_lines[i + 1][0] - horisontal_lines[i][0] != 1:\n",
        "    main_horiz_lines.append(horisontal_lines[i])\n",
        "\n",
        "main_horiz_lines.append((vertical_lines[0][0] + vertical_lines[0][2], horisontal_lines[0][1]))\n",
        "\n",
        "for idx_h in range(len(main_horiz_lines)):\n",
        "  for idx_v in range(len(main_vert_lines)):\n",
        "    if idx_h % 2 == 0:\n",
        "      if idx_v % 2 == 0:\n",
        "        border_cells.append((main_horiz_lines[idx_h][0], main_vert_lines[idx_v][1]))\n",
        "      else:\n",
        "        border_cells.append((main_horiz_lines[idx_h + 1][0], main_vert_lines[idx_v][1]))\n",
        "\n",
        "border_cells"
      ],
      "execution_count": 115,
      "outputs": [
        {
          "output_type": "execute_result",
          "data": {
            "text/plain": [
              "[(0, 204),\n",
              " (162, 366),\n",
              " (0, 382),\n",
              " (162, 537),\n",
              " (0, 553),\n",
              " (162, 716),\n",
              " (178, 204),\n",
              " (333, 366),\n",
              " (178, 382),\n",
              " (333, 537),\n",
              " (178, 553),\n",
              " (333, 716),\n",
              " (349, 204),\n",
              " (512, 366),\n",
              " (349, 382),\n",
              " (512, 537),\n",
              " (349, 553),\n",
              " (512, 716)]"
            ]
          },
          "metadata": {
            "tags": []
          },
          "execution_count": 115
        }
      ]
    },
    {
      "cell_type": "code",
      "metadata": {
        "id": "q4prO1cM5-iz"
      },
      "source": [
        "what_in_cell = list() # 0 - nothing, 1 - cross, 2 -circle\n",
        "\n",
        "for i in range(9):\n",
        "  left_up = border_cells[i]\n",
        "  right_down = border_cells[i + 1]\n",
        "\n",
        "  mistake = 6\n",
        "\n",
        "  c_x = right_up[1] - left_up[1]\n",
        "  c_y = right_up[0] - left_up[0]\n",
        "\n",
        "  cnt = 0\n",
        "  for i in range(-mistake, mistake):\n",
        "    for j in range(-mistake, mistake):\n",
        "      if is_not_bg(img[c_y + i][c_x + j]):\n",
        "        cnt += 1\n",
        "\n",
        "  #did not make empty cells((((\n",
        "  if cnt >= 2 * mistake:\n",
        "    what_in_cell.append(1)\n",
        "  else:\n",
        "    what_in_cell.append(2)\n",
        "\n",
        "  "
      ],
      "execution_count": null,
      "outputs": []
    }
  ]
}